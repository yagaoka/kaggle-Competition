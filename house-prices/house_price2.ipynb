{
 "cells": [
  {
   "cell_type": "code",
   "execution_count": 4,
   "id": "0d85d2ba",
   "metadata": {},
   "outputs": [],
   "source": [
    "import numpy as np\n",
    "import pandas as pd\n",
    "pd.set_option('max_columns', 105)\n",
    "import matplotlib.pyplot as plt\n",
    "import seaborn as sns\n",
    "from scipy import stats\n",
    "%matplotlib inline\n",
    "sns.set()\n",
    "\n",
    "import warnings\n",
    "warnings.filterwarnings(\"ignore\", category=FutureWarning)\n",
    "warnings.filterwarnings(\"ignore\", category=DeprecationWarning)\n",
    "#warnings.filterwarnings(\"ignore\")\n",
    "\n",
    "from subprocess import check_output"
   ]
  },
  {
   "cell_type": "code",
   "execution_count": 5,
   "id": "8813ef70",
   "metadata": {},
   "outputs": [],
   "source": [
    "#モデル分割で使われる交差検証の数\n",
    "nr_cv = 5\n",
    "\n",
    "#SalePriceと特徴のlog値を使うためのスイッチ\n",
    "use_logvals = 1\n",
    "\n",
    "#相関で用いられるtarget\n",
    "target = \"SalePrice_Log\"\n",
    "\n",
    "#この閾値はpart3におけるML Regressorsで用いられる\n",
    "min_val_corr = 0.4\n",
    "\n",
    "#すでに使われるその他に似ていて、高い相関を見せる列を削除するスイッチ\n",
    "drop_similar = 1"
   ]
  },
  {
   "cell_type": "markdown",
   "id": "39132e63",
   "metadata": {},
   "source": [
    "Some Useful Function"
   ]
  },
  {
   "cell_type": "code",
   "execution_count": 6,
   "id": "439f62a9",
   "metadata": {},
   "outputs": [],
   "source": [
    "def get_best_score(grid):\n",
    "    best_score = np.sqrt(-grid.best_score_)\n",
    "    print(best_score)\n",
    "    print(grid.best_params_)\n",
    "    print(grid.best_estimator_)\n",
    "    \n",
    "    return best_score\n",
    "\n",
    "def print_cols_large_corr(df, nr_c, targ):\n",
    "    corr = df.corr()\n",
    "    corr_abs = corr.abs()\n",
    "    print (corr_abs.nlargest(nr_c, targ)[targ])\n",
    "    \n",
    "def plot_corr_matrix(df, nr_c, targ):\n",
    "    corr = df.corr()\n",
    "    corr_abs = corr.abs()\n",
    "    cols = corr_abs.nlargest(nr_c, targ)[targ].index\n",
    "    cm = np.corrcoef(df[cols].values.T)\n",
    "    \n",
    "    plt.figure(figsize=(nr_c/1.5, nr_c/1.5))\n",
    "    sns.set(font_scale=1.25)\n",
    "    sns.heatmap(cm, linewidth=1.5, annot=True, square=True,\n",
    "               fmt=\".2f\", annot_kws={\"size\": 10},\n",
    "               yticklabels=cols.values, xticklabels=cols.values\n",
    "               )\n",
    "    plt.show()"
   ]
  },
  {
   "cell_type": "code",
   "execution_count": null,
   "id": "28e7fe0f",
   "metadata": {},
   "outputs": [],
   "source": [
    "df_train = pd.read_csv(\"train.csv\")\n",
    "df_test = pd.read_csv(\"test.csv\")"
   ]
  }
 ],
 "metadata": {
  "kernelspec": {
   "display_name": "Python 3",
   "language": "python",
   "name": "python3"
  },
  "language_info": {
   "codemirror_mode": {
    "name": "ipython",
    "version": 3
   },
   "file_extension": ".py",
   "mimetype": "text/x-python",
   "name": "python",
   "nbconvert_exporter": "python",
   "pygments_lexer": "ipython3",
   "version": "3.8.3"
  }
 },
 "nbformat": 4,
 "nbformat_minor": 5
}
